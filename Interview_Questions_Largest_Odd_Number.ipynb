{
  "nbformat": 4,
  "nbformat_minor": 0,
  "metadata": {
    "colab": {
      "name": "Interview Questions: Largest Odd Number",
      "provenance": [],
      "authorship_tag": "ABX9TyN8bPuPxXV8kb1zoU0VibS1",
      "include_colab_link": true
    },
    "kernelspec": {
      "name": "python3",
      "display_name": "Python 3"
    }
  },
  "cells": [
    {
      "cell_type": "markdown",
      "metadata": {
        "id": "view-in-github",
        "colab_type": "text"
      },
      "source": [
        "<a href=\"https://colab.research.google.com/github/MattLowrie/visualizing_running_time/blob/master/Interview_Questions_Largest_Odd_Number.ipynb\" target=\"_parent\"><img src=\"https://colab.research.google.com/assets/colab-badge.svg\" alt=\"Open In Colab\"/></a>"
      ]
    },
    {
      "cell_type": "markdown",
      "metadata": {
        "id": "Fs9hRiAY6Ix_",
        "colab_type": "text"
      },
      "source": [
        "# Largest Odd Number\n",
        "\n",
        "This question asks to find the largest odd number within a given array of numbers. If no odd number is found, the function should return `None`.\n",
        "\n",
        "The first implementation below keeps track of the largest odd number while iterating the array once, so it solves the problem in `O(n)` running time. The second solution first finds all of the odd numbers in a separate array, then sorts the array to return the last item in the array as the largest odd integer. Not only does this solution use `O(n)` space by adding a separate array, the sort operation adds `O(n log n)` running time, as the graphs below demonstrate."
      ]
    },
    {
      "cell_type": "code",
      "metadata": {
        "id": "CTtd1_yje1JW",
        "colab_type": "code",
        "colab": {}
      },
      "source": [
        "from typing import List\n",
        "\n",
        "def largest_odd_number_fast(numbers: List[int]) -> (int or None):\n",
        "  \"\"\"O(n) implementation.\"\"\"\n",
        "  if not len(numbers):\n",
        "    return None\n",
        "  largest = None\n",
        "  for n in numbers:\n",
        "    if n % 2 != 0:\n",
        "      if largest is None:\n",
        "        largest = n\n",
        "      elif n > largest:\n",
        "        largest = n\n",
        "  return largest\n",
        "\n",
        "def largest_odd_number_slow(numbers: List[int]) -> (int or None):\n",
        "  \"\"\"O(n log n) implementation.\"\"\"\n",
        "  odds = []\n",
        "  for n in numbers:\n",
        "    if not n % 2 == 0:\n",
        "      odds.append(n)\n",
        "  if not len(odds):\n",
        "    return None\n",
        "  return sorted(odds)[-1]"
      ],
      "execution_count": 0,
      "outputs": []
    },
    {
      "cell_type": "code",
      "metadata": {
        "id": "OmbiegdR_5KP",
        "colab_type": "code",
        "colab": {
          "base_uri": "https://localhost:8080/",
          "height": 119
        },
        "outputId": "ae972cb2-e5a2-4111-e43f-ab961a6f9643"
      },
      "source": [
        "# Test both implementations\n",
        "!pip install parameterized\n",
        "from parameterized import parameterized\n",
        "import unittest\n",
        "test_cases = [\n",
        "  ('Test0', [], None),\n",
        "  ('Test1', [2], None),\n",
        "  ('Test2', [2, 1], 1),\n",
        "  ('Test3', [2, 9, 1], 9),\n",
        "  ('Test4', [4, 3, 5, 1], 5),\n",
        "  ('Test5', [5, 5, 4, 5, 2], 5),\n",
        "  ('Test6', [11, 2, 3, 3, 2, 1], 11),\n",
        "  ('Test7', [2, 4, 6, 8, 10, 12, 14], None),\n",
        "  ('Test8', [8, 2, 1, 7, 5, 7, 3, 8], 7),\n",
        "  ('Test9', [8, 4, 6, 2, 6, 4, 9, 5, 99], 99),\n",
        "]\n",
        "\n",
        "class TestFirstDuplicate(unittest.TestCase):\n",
        "  @parameterized.expand(test_cases)\n",
        "  def testFast(self, name, arr, expected):\n",
        "    actual = largest_odd_number_fast(arr)\n",
        "    self.assertEqual(expected, actual)\n",
        "  @parameterized.expand(test_cases)\n",
        "  def testSlow(self, name, arr, expected):\n",
        "    actual = largest_odd_number_slow(arr)\n",
        "    self.assertEqual(expected, actual)\n",
        "\n",
        "unittest.main(argv=[''], verbosity=0, exit=False)"
      ],
      "execution_count": 2,
      "outputs": [
        {
          "output_type": "stream",
          "text": [
            "Requirement already satisfied: parameterized in /usr/local/lib/python3.6/dist-packages (0.7.1)\n"
          ],
          "name": "stdout"
        },
        {
          "output_type": "stream",
          "text": [
            "----------------------------------------------------------------------\n",
            "Ran 20 tests in 0.001s\n",
            "\n",
            "OK\n"
          ],
          "name": "stderr"
        },
        {
          "output_type": "execute_result",
          "data": {
            "text/plain": [
              "<unittest.main.TestProgram at 0x7f157942a6d8>"
            ]
          },
          "metadata": {
            "tags": []
          },
          "execution_count": 2
        }
      ]
    },
    {
      "cell_type": "code",
      "metadata": {
        "id": "AFKKktxFw9en",
        "colab_type": "code",
        "colab": {}
      },
      "source": [
        "# Create input arrays of increasing sizes\n",
        "import random\n",
        "input_sizes = [2**e for e in range(12, 21)]\n",
        "input_arrs = {}\n",
        "for size in input_sizes:\n",
        "  input_arrs[size] = [random.randrange(1, size+1) for _ in range(size)]"
      ],
      "execution_count": 0,
      "outputs": []
    },
    {
      "cell_type": "code",
      "metadata": {
        "id": "WG7yu1SFxhNl",
        "colab_type": "code",
        "colab": {
          "base_uri": "https://localhost:8080/",
          "height": 323
        },
        "outputId": "44dfac4e-78b9-4084-f935-57746722b131"
      },
      "source": [
        "# Now time both functions with each input array\n",
        "timing_samples = {}\n",
        "for size, input_arr in input_arrs.items():\n",
        "  tf = %timeit -o -n 3 largest_odd_number_fast(input_arr)\n",
        "  timing_samples[(size, 'fast')] = tf\n",
        "  ts = %timeit -o -n 3 largest_odd_number_slow(input_arr)\n",
        "  timing_samples[(size, 'slow')] = ts"
      ],
      "execution_count": 4,
      "outputs": [
        {
          "output_type": "stream",
          "text": [
            "3 loops, best of 3: 287 µs per loop\n",
            "3 loops, best of 3: 816 µs per loop\n",
            "3 loops, best of 3: 595 µs per loop\n",
            "3 loops, best of 3: 1.71 ms per loop\n",
            "3 loops, best of 3: 1.16 ms per loop\n",
            "3 loops, best of 3: 3.46 ms per loop\n",
            "3 loops, best of 3: 2.27 ms per loop\n",
            "3 loops, best of 3: 7.74 ms per loop\n",
            "3 loops, best of 3: 4.88 ms per loop\n",
            "3 loops, best of 3: 20 ms per loop\n",
            "3 loops, best of 3: 9.24 ms per loop\n",
            "3 loops, best of 3: 42.8 ms per loop\n",
            "3 loops, best of 3: 18.9 ms per loop\n",
            "3 loops, best of 3: 98.3 ms per loop\n",
            "3 loops, best of 3: 37.8 ms per loop\n",
            "3 loops, best of 3: 221 ms per loop\n",
            "3 loops, best of 3: 76.8 ms per loop\n",
            "3 loops, best of 3: 494 ms per loop\n"
          ],
          "name": "stdout"
        }
      ]
    },
    {
      "cell_type": "code",
      "metadata": {
        "id": "-EZRzZ4hX-Bx",
        "colab_type": "code",
        "colab": {
          "base_uri": "https://localhost:8080/",
          "height": 575
        },
        "outputId": "510ac7ad-af2b-4c4c-d10a-f80adcd52607"
      },
      "source": [
        "# Chart the timing data\n",
        "chart_data = []\n",
        "# for num_loops in loop_intervals:\n",
        "for size in input_sizes:\n",
        "  row = []\n",
        "  fast_sample = timing_samples[(size, 'fast')]\n",
        "  slow_sample = timing_samples[(size, 'slow')]\n",
        "  row.append(((fast_sample.best + fast_sample.worst) / 2))\n",
        "  row.append(((slow_sample.best + slow_sample.worst) / 2))\n",
        "  chart_data.append(row)\n",
        "\n",
        "import pandas as pd\n",
        "\n",
        "legend = ['Fast O(n)', 'Slow O(n log n)']\n",
        "# Show a linear chart\n",
        "df1 = pd.DataFrame(chart_data, index=input_sizes, columns=legend)\n",
        "df1.plot(title='Linear X Axis')\n",
        "# Show a chart with normalized x-axis plots to highlight the logarithmic growth\n",
        "x_labels = [str(x) for x in input_sizes]\n",
        "df2 = pd.DataFrame(chart_data, index=x_labels, columns=legend)\n",
        "df2.plot(title='Plot at each Input Size')"
      ],
      "execution_count": 5,
      "outputs": [
        {
          "output_type": "execute_result",
          "data": {
            "text/plain": [
              "<matplotlib.axes._subplots.AxesSubplot at 0x7f1574536358>"
            ]
          },
          "metadata": {
            "tags": []
          },
          "execution_count": 5
        },
        {
          "output_type": "display_data",
          "data": {
            "image/png": "[encoded data removed]",
            "text/plain": [
              "<Figure size 432x288 with 1 Axes>"
            ]
          },
          "metadata": {
            "tags": []
          }
        },
        {
          "output_type": "display_data",
          "data": {
            "image/png": "[encoded data removed]",
            "text/plain": [
              "<Figure size 432x288 with 1 Axes>"
            ]
          },
          "metadata": {
            "tags": []
          }
        }
      ]
    }
  ]
}