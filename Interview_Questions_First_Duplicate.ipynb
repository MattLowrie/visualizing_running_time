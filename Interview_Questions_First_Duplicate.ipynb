{
  "nbformat": 4,
  "nbformat_minor": 0,
  "metadata": {
    "colab": {
      "name": "Interview Questions: First Duplicate",
      "provenance": [],
      "collapsed_sections": [],
      "authorship_tag": "ABX9TyMU6SM+DyEzjeLZCk5bPxHY",
      "include_colab_link": true
    },
    "kernelspec": {
      "name": "python3",
      "display_name": "Python 3"
    }
  },
  "cells": [
    {
      "cell_type": "markdown",
      "metadata": {
        "id": "view-in-github",
        "colab_type": "text"
      },
      "source": [
        "<a href=\"https://colab.research.google.com/github/MattLowrie/visualizing_running_time/blob/master/Interview_Questions_First_Duplicate.ipynb\" target=\"_parent\"><img src=\"https://colab.research.google.com/assets/colab-badge.svg\" alt=\"Open In Colab\"/></a>"
      ]
    },
    {
      "cell_type": "markdown",
      "metadata": {
        "id": "Mp1Ct21KekeE",
        "colab_type": "text"
      },
      "source": [
        "# First Duplicate\n",
        "\n",
        "There are several variations of this problem that can be found online. This\n",
        "version involves returning the first occurance of a duplicate integer in a given array of integers, where any individual integer in the array is less than the length of array. If there are no duplicates in the array,\n",
        "then -1 is returned. [Here](https://www.youtube.com/watch?v=XSdr_O-XVRQ) is a\n",
        "video which describes the problem well.\n",
        "\n",
        "The first implementation below runs in O(n) time, by keeping track of any duplicates, as it iterates the given array once. The second implementation\n",
        "looks for duplicates by comparing each integer with every other integer in the array, using a nested loop. The graphs below demonstrate how this latter approach increases exponentially in running time as the size of the array increases.\n"
      ]
    },
    {
      "cell_type": "code",
      "metadata": {
        "id": "4LINACZzPnou",
        "colab_type": "code",
        "colab": {}
      },
      "source": [
        "from typing import List\n",
        "\n",
        "def first_duplicate_fast(A: List[int]) -> int:\n",
        "  \"\"\"O(n) implementation.\"\"\"\n",
        "  dups = set()\n",
        "  for n in A:\n",
        "    if n in dups:\n",
        "      return n\n",
        "    else:\n",
        "      dups.add(n)\n",
        "  return -1\n",
        "\n",
        "def first_duplicate_slow(A: List[int]) -> int:\n",
        "  \"\"\"O(n^2) implementation.\"\"\"\n",
        "  dupe_idx = None\n",
        "  for i in range(len(A)):\n",
        "    for j in range(i+1, len(A)):\n",
        "      if A[i] == A[j]:\n",
        "        if dupe_idx is None or j < dupe_idx:\n",
        "          dupe_idx = j\n",
        "  if dupe_idx is None:\n",
        "    return -1\n",
        "  else:\n",
        "    return A[dupe_idx]"
      ],
      "execution_count": 0,
      "outputs": []
    },
    {
      "cell_type": "code",
      "metadata": {
        "id": "ujjNwSdHNrpZ",
        "colab_type": "code",
        "colab": {
          "base_uri": "https://localhost:8080/",
          "height": 170
        },
        "outputId": "4da46e56-4762-4358-b808-0eb08e7f6701"
      },
      "source": [
        "# Test both implementations\n",
        "!pip install parameterized\n",
        "from parameterized import parameterized\n",
        "import unittest\n",
        "test_cases = [\n",
        "  ('Test0', [], -1),\n",
        "  ('Test1', [1], -1),\n",
        "  ('Test2', [2, 1], -1),\n",
        "  ('Test3', [2, 2, 1], 2),\n",
        "  ('Test4', [4, 3, 5, 1], -1),\n",
        "  ('Test5', [5, 5, 4, 5, 5], 5),\n",
        "  ('Test6', [1, 2, 3, 3, 2, 1], 3),\n",
        "  ('Test7', [6, 5, 4, 3, 2, 7, 7], 7),\n",
        "  ('Test8', [8, 2, 1, 3, 5, 7, 4, 8], 8),\n",
        "  ('Test9', [8, 4, 6, 2, 6, 4, 9, 5, 8], 6),\n",
        "]\n",
        "\n",
        "class TestFirstDuplicate(unittest.TestCase):\n",
        "  @parameterized.expand(test_cases)\n",
        "  def testFast(self, name, arr, expected):\n",
        "    actual = first_duplicate_fast(arr)\n",
        "    self.assertEqual(expected, actual)\n",
        "  @parameterized.expand(test_cases)\n",
        "  def testSlow(self, name, arr, expected):\n",
        "    actual = first_duplicate_slow(arr)\n",
        "    self.assertEqual(expected, actual)\n",
        "\n",
        "unittest.main(argv=[''], verbosity=0, exit=False)\n"
      ],
      "execution_count": 2,
      "outputs": [
        {
          "output_type": "stream",
          "text": [
            "Collecting parameterized\n",
            "  Downloading https://files.pythonhosted.org/packages/a3/bf/6ef8239028beae8298e0806b4f79c2466b1b16ca5b85dc13d631c5ea92c4/parameterized-0.7.1-py2.py3-none-any.whl\n",
            "Installing collected packages: parameterized\n",
            "Successfully installed parameterized-0.7.1\n"
          ],
          "name": "stdout"
        },
        {
          "output_type": "stream",
          "text": [
            "----------------------------------------------------------------------\n",
            "Ran 20 tests in 0.001s\n",
            "\n",
            "OK\n"
          ],
          "name": "stderr"
        },
        {
          "output_type": "execute_result",
          "data": {
            "text/plain": [
              "<unittest.main.TestProgram at 0x7f81e2e31908>"
            ]
          },
          "metadata": {
            "tags": []
          },
          "execution_count": 2
        }
      ]
    },
    {
      "cell_type": "code",
      "metadata": {
        "id": "jMrUkDO1lroq",
        "colab_type": "code",
        "colab": {}
      },
      "source": [
        "# Create input arrays of increasing sizes\n",
        "import random\n",
        "input_sizes = [2**e for e in range(10, 16)]\n",
        "input_arrs = {}\n",
        "for size in input_sizes:\n",
        "  input_arrs[size] = [random.randrange(1, size+1) for _ in range(size)]"
      ],
      "execution_count": 0,
      "outputs": []
    },
    {
      "cell_type": "code",
      "metadata": {
        "id": "0-zqSm9auSfA",
        "colab_type": "code",
        "colab": {
          "base_uri": "https://localhost:8080/",
          "height": 221
        },
        "outputId": "3b50ec08-a0f1-44af-f7cb-ef0e1f4c9f95"
      },
      "source": [
        "# Now time both functions with each input array\n",
        "timing_samples = {}\n",
        "for size, input_arr in input_arrs.items():\n",
        "  tf = %timeit -o -n 3 first_duplicate_fast(input_arr)\n",
        "  timing_samples[(size, 'fast')] = tf\n",
        "  ts = %timeit -o -n 3 first_duplicate_slow(input_arr)\n",
        "  timing_samples[(size, 'slow')] = ts"
      ],
      "execution_count": 4,
      "outputs": [
        {
          "output_type": "stream",
          "text": [
            "3 loops, best of 3: 2.61 µs per loop\n",
            "3 loops, best of 3: 37.1 ms per loop\n",
            "3 loops, best of 3: 5.36 µs per loop\n",
            "3 loops, best of 3: 144 ms per loop\n",
            "3 loops, best of 3: 9.22 µs per loop\n",
            "3 loops, best of 3: 576 ms per loop\n",
            "3 loops, best of 3: 15.1 µs per loop\n",
            "3 loops, best of 3: 2.31 s per loop\n",
            "3 loops, best of 3: 25.6 µs per loop\n",
            "3 loops, best of 3: 9.25 s per loop\n",
            "3 loops, best of 3: 37.3 µs per loop\n",
            "3 loops, best of 3: 36.9 s per loop\n"
          ],
          "name": "stdout"
        }
      ]
    },
    {
      "cell_type": "code",
      "metadata": {
        "id": "cQih3WV20LYC",
        "colab_type": "code",
        "colab": {
          "base_uri": "https://localhost:8080/",
          "height": 562
        },
        "outputId": "f7712d24-057e-4f73-d686-3fc1c275fafb"
      },
      "source": [
        "# Chart the timing data\n",
        "chart_data = []\n",
        "# for num_loops in loop_intervals:\n",
        "for size in input_sizes:\n",
        "  row = []\n",
        "  fast_sample = timing_samples[(size, 'fast')]\n",
        "  slow_sample = timing_samples[(size, 'slow')]\n",
        "  row.append(((fast_sample.best + fast_sample.worst) / 2))\n",
        "  row.append(((slow_sample.best + slow_sample.worst) / 2))\n",
        "  chart_data.append(row)\n",
        "\n",
        "import pandas as pd\n",
        "\n",
        "legend = ['Fast O(n)', 'Slow O(n^2)']\n",
        "# Show a linear chart\n",
        "df1 = pd.DataFrame(chart_data, index=input_sizes, columns=legend)\n",
        "df1.plot(title='Linear X Axis')\n",
        "# Show a chart with normalized x-axis plots to highlight the logarithmic growth\n",
        "x_labels = [str(x) for x in input_sizes]\n",
        "df2 = pd.DataFrame(chart_data, index=x_labels, columns=legend)\n",
        "df2.plot(title='Plot at each Input Size')"
      ],
      "execution_count": 5,
      "outputs": [
        {
          "output_type": "execute_result",
          "data": {
            "text/plain": [
              "<matplotlib.axes._subplots.AxesSubplot at 0x7f81e1e5aba8>"
            ]
          },
          "metadata": {
            "tags": []
          },
          "execution_count": 5
        },
        {
          "output_type": "display_data",
          "data": {
            "image/png": "[encoded data removed]",
            "text/plain": [
              "<Figure size 432x288 with 1 Axes>"
            ]
          },
          "metadata": {
            "tags": []
          }
        },
        {
          "output_type": "display_data",
          "data": {
            "image/png": "[encoded data removed]",
            "text/plain": [
              "<Figure size 432x288 with 1 Axes>"
            ]
          },
          "metadata": {
            "tags": []
          }
        }
      ]
    }
  ]
}